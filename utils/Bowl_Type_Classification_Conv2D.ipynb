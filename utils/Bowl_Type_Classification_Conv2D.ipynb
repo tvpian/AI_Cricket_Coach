{
 "cells": [
  {
   "cell_type": "code",
   "execution_count": null,
   "metadata": {
    "colab": {},
    "colab_type": "code",
    "id": "I2pu6DXVYzjl"
   },
   "outputs": [],
   "source": [
    "! unzip /content/sample_data/Dataset.zip -d /content/sample_data/CNN/"
   ]
  },
  {
   "cell_type": "code",
   "execution_count": null,
   "metadata": {
    "colab": {
     "base_uri": "https://localhost:8080/",
     "height": 561
    },
    "colab_type": "code",
    "id": "vU5rC2KwZYiF",
    "outputId": "bba2c7e9-44b9-4170-8ef3-072a890394bd"
   },
   "outputs": [],
   "source": [
    "# Convolutional Neural Network\n",
    "\n",
    "# Part 1 - Building the CNN\n",
    "\n",
    "# Importing the Keras libraries and packages\n",
    "from keras.models import Sequential\n",
    "from keras.layers import Conv2D\n",
    "from keras.layers import MaxPooling2D\n",
    "from keras.layers import Flatten\n",
    "from keras.layers import Dense,Dropout\n",
    "\n",
    "# Initialising the CNN\n",
    "classifier = Sequential()\n",
    "\n",
    "# Step 1 - Convolution\n",
    "classifier.add(Conv2D(128, (3, 3), input_shape = (100, 100, 3), activation = 'relu'))\n",
    "\n",
    "# Step 2 - Pooling\n",
    "classifier.add(MaxPooling2D(pool_size = (2, 2)))\n",
    "\n",
    "# Adding a second convolutional layer\n",
    "classifier.add(Conv2D(64, (3, 3), activation = 'relu'))\n",
    "classifier.add(MaxPooling2D(pool_size = (2, 2)))\n",
    "\n",
    "# Adding a second convolutional layer\n",
    "classifier.add(Conv2D(32, (3, 3), activation = 'relu'))\n",
    "classifier.add(MaxPooling2D(pool_size = (2, 2)))\n",
    "\n",
    "# Step 3 - Flattening\n",
    "classifier.add(Flatten())\n",
    "\n",
    "# Step 4 - Full connection\n",
    "classifier.add(Dense(units = 256, activation = 'relu'))\n",
    "classifier.add(Dense(units = 128, activation = 'relu'))\n",
    "classifier.add(Dropout(0.25))\n",
    "classifier.add(Dense(units = 3, activation = 'softmax'))\n",
    "\n",
    "# Compiling the CNN\n",
    "classifier.compile(optimizer = 'adam', loss = 'categorical_crossentropy', metrics = ['accuracy'])\n",
    "\n",
    "# Part 2 - Fitting the CNN to the images\n",
    "\n",
    "from keras.preprocessing.image import ImageDataGenerator\n",
    "\n",
    "train_datagen = ImageDataGenerator(rescale = 1./255,\n",
    "                                   shear_range = 0.2,\n",
    "                                   zoom_range = 0.2,\n",
    "                                   horizontal_flip = True)\n",
    "\n",
    "test_datagen = ImageDataGenerator(rescale = 1./255)\n",
    "\n",
    "training_set = train_datagen.flow_from_directory('/content/sample_data/CNN/Dataset/dataset/train',\n",
    "                                                 target_size = (100, 100),\n",
    "                                                 batch_size = 5,\n",
    "                                                 class_mode = 'categorical')\n",
    "\n",
    "test_set = test_datagen.flow_from_directory('/content/sample_data/CNN/Dataset/dataset/test',\n",
    "                                            target_size = (100, 100),\n",
    "                                            batch_size = 5,\n",
    "                                            class_mode = 'categorical')\n",
    "\n",
    "classifier.summary()"
   ]
  },
  {
   "cell_type": "code",
   "execution_count": 18,
   "metadata": {
    "colab": {
     "base_uri": "https://localhost:8080/",
     "height": 1000
    },
    "colab_type": "code",
    "id": "aEhfY5e0aGLH",
    "outputId": "d884e6be-89df-4a01-8c24-53449a742db2"
   },
   "outputs": [
    {
     "name": "stdout",
     "output_type": "stream",
     "text": [
      "Epoch 1/30\n",
      "62/62 [==============================] - 3s 44ms/step - loss: 1.1109 - accuracy: 0.3220 - val_loss: 1.1102 - val_accuracy: 0.3333\n",
      "Epoch 2/30\n",
      "62/62 [==============================] - 2s 37ms/step - loss: 1.1058 - accuracy: 0.3220 - val_loss: 1.0973 - val_accuracy: 0.3333\n",
      "Epoch 3/30\n",
      "62/62 [==============================] - 2s 36ms/step - loss: 1.0161 - accuracy: 0.5186 - val_loss: 0.8715 - val_accuracy: 0.7667\n",
      "Epoch 4/30\n",
      "62/62 [==============================] - 2s 36ms/step - loss: 0.6703 - accuracy: 0.7517 - val_loss: 0.0251 - val_accuracy: 0.8667\n",
      "Epoch 5/30\n",
      "62/62 [==============================] - 2s 34ms/step - loss: 0.3031 - accuracy: 0.8780 - val_loss: 0.2570 - val_accuracy: 0.9000\n",
      "Epoch 6/30\n",
      "62/62 [==============================] - 2s 37ms/step - loss: 0.2623 - accuracy: 0.9085 - val_loss: 0.2998 - val_accuracy: 0.9667\n",
      "Epoch 7/30\n",
      "62/62 [==============================] - 2s 37ms/step - loss: 0.1717 - accuracy: 0.9329 - val_loss: 0.1201 - val_accuracy: 1.0000\n",
      "Epoch 8/30\n",
      "62/62 [==============================] - 2s 35ms/step - loss: 0.1173 - accuracy: 0.9559 - val_loss: 0.0153 - val_accuracy: 0.9667\n",
      "Epoch 9/30\n",
      "62/62 [==============================] - 2s 32ms/step - loss: 0.1663 - accuracy: 0.9492 - val_loss: 0.1277 - val_accuracy: 0.9333\n",
      "Epoch 10/30\n",
      "62/62 [==============================] - 2s 37ms/step - loss: 0.2271 - accuracy: 0.9254 - val_loss: 1.8096e-05 - val_accuracy: 0.9667\n",
      "Epoch 11/30\n",
      "62/62 [==============================] - 2s 37ms/step - loss: 0.0552 - accuracy: 0.9765 - val_loss: 6.4736e-04 - val_accuracy: 0.9333\n",
      "Epoch 12/30\n",
      "62/62 [==============================] - 2s 35ms/step - loss: 0.0390 - accuracy: 0.9864 - val_loss: 1.3423 - val_accuracy: 0.9667\n",
      "Epoch 13/30\n",
      "62/62 [==============================] - 2s 36ms/step - loss: 0.0107 - accuracy: 0.9966 - val_loss: 1.6689e-07 - val_accuracy: 0.9667\n",
      "Epoch 14/30\n",
      "62/62 [==============================] - 2s 34ms/step - loss: 0.0033 - accuracy: 1.0000 - val_loss: 7.6868e-04 - val_accuracy: 0.9667\n",
      "Epoch 15/30\n",
      "62/62 [==============================] - 2s 37ms/step - loss: 0.0143 - accuracy: 0.9932 - val_loss: 7.5469e-05 - val_accuracy: 0.9667\n",
      "Epoch 16/30\n",
      "62/62 [==============================] - 2s 36ms/step - loss: 0.0368 - accuracy: 0.9898 - val_loss: 2.5009e-05 - val_accuracy: 0.9667\n",
      "Epoch 17/30\n",
      "62/62 [==============================] - 2s 36ms/step - loss: 0.0222 - accuracy: 0.9933 - val_loss: 0.8034 - val_accuracy: 0.9667\n",
      "Epoch 18/30\n",
      "62/62 [==============================] - 2s 34ms/step - loss: 0.0427 - accuracy: 0.9864 - val_loss: 0.2623 - val_accuracy: 0.9000\n",
      "Epoch 19/30\n",
      "62/62 [==============================] - 2s 37ms/step - loss: 0.0057 - accuracy: 0.9966 - val_loss: 0.2407 - val_accuracy: 0.9333\n",
      "Epoch 20/30\n",
      "62/62 [==============================] - 2s 36ms/step - loss: 0.0086 - accuracy: 0.9966 - val_loss: 0.7202 - val_accuracy: 0.9667\n",
      "Epoch 21/30\n",
      "62/62 [==============================] - 2s 36ms/step - loss: 0.0450 - accuracy: 0.9866 - val_loss: 8.8196e-04 - val_accuracy: 0.9667\n",
      "Epoch 22/30\n",
      "62/62 [==============================] - 2s 34ms/step - loss: 0.0492 - accuracy: 0.9763 - val_loss: 0.0020 - val_accuracy: 0.9333\n",
      "Epoch 23/30\n",
      "62/62 [==============================] - 2s 37ms/step - loss: 0.0529 - accuracy: 0.9831 - val_loss: 0.0022 - val_accuracy: 0.9333\n",
      "Epoch 24/30\n",
      "62/62 [==============================] - 2s 39ms/step - loss: 0.0042 - accuracy: 1.0000 - val_loss: 7.1525e-07 - val_accuracy: 0.9667\n",
      "Epoch 25/30\n",
      "62/62 [==============================] - 2s 37ms/step - loss: 0.0045 - accuracy: 1.0000 - val_loss: 9.9997e-04 - val_accuracy: 0.9333\n",
      "Epoch 26/30\n",
      "62/62 [==============================] - 2s 36ms/step - loss: 0.0049 - accuracy: 0.9966 - val_loss: 1.2803e-05 - val_accuracy: 0.9667\n",
      "Epoch 27/30\n",
      "62/62 [==============================] - 2s 34ms/step - loss: 0.0029 - accuracy: 1.0000 - val_loss: 2.1458e-07 - val_accuracy: 0.9333\n",
      "Epoch 28/30\n",
      "62/62 [==============================] - 2s 37ms/step - loss: 9.9005e-04 - accuracy: 1.0000 - val_loss: 0.0000e+00 - val_accuracy: 0.9667\n",
      "Epoch 29/30\n",
      "62/62 [==============================] - 2s 36ms/step - loss: 0.0042 - accuracy: 1.0000 - val_loss: 1.8120e-06 - val_accuracy: 0.9333\n",
      "Epoch 30/30\n",
      "62/62 [==============================] - 2s 36ms/step - loss: 0.0286 - accuracy: 0.9864 - val_loss: 0.0340 - val_accuracy: 0.9333\n"
     ]
    },
    {
     "data": {
      "application/vnd.google.colaboratory.intrinsic": {
       "type": "string"
      },
      "text/plain": [
       "\"\\nimport numpy as np\\nfrom keras.preprocessing import image\\ntest_image = image.load_img('dataset/single_prediction/cat_or_dog_1.jpg', target_size = (64, 64))\\ntest_image = image.img_to_array(test_image)\\ntest_image = np.expand_dims(test_image, axis = 0)\\nresult = classifier.predict(test_image)\\ntraining_set.class_indices\\nif result[0][0] == 1:\\n    prediction = 'dog'\\nelse:\\n    prediction = 'cat'\\n\""
      ]
     },
     "execution_count": 18,
     "metadata": {
      "tags": []
     },
     "output_type": "execute_result"
    }
   ],
   "source": [
    "classifier.fit_generator(training_set,\n",
    "                         steps_per_epoch = 62,\n",
    "                         epochs = 30,\n",
    "                         validation_data = test_set,\n",
    "                         validation_steps = 30)\n",
    "\n"
   ]
  },
  {
   "cell_type": "code",
   "execution_count": 21,
   "metadata": {
    "colab": {
     "base_uri": "https://localhost:8080/",
     "height": 51
    },
    "colab_type": "code",
    "id": "u7PIaNLld6o-",
    "outputId": "d5e11653-7b2f-4e8a-ffc0-3ce25ee14a02"
   },
   "outputs": [
    {
     "name": "stdout",
     "output_type": "stream",
     "text": [
      "[[1. 0. 0.]]\n",
      "{'Fast': 0, 'Legspin': 1, 'Offspin': 2}\n"
     ]
    }
   ],
   "source": [
    "# Part 3 - Making new predictions\n",
    "\n",
    "import numpy as np\n",
    "from keras.preprocessing import image\n",
    "test_image = image.load_img('/content/sample_data/CNN/Dataset/dataset/test/Fast/6.png', target_size = (100, 100))\n",
    "test_image = image.img_to_array(test_image)\n",
    "test_image = np.expand_dims(test_image, axis = 0)\n",
    "result = classifier.predict(test_image)\n",
    "print(result)\n",
    "print(training_set.class_indices)\n"
   ]
  }
 ],
 "metadata": {
  "accelerator": "GPU",
  "colab": {
   "name": "Untitled3.ipynb",
   "provenance": []
  },
  "kernelspec": {
   "display_name": "Python 3",
   "language": "python",
   "name": "python3"
  }
 },
 "nbformat": 4,
 "nbformat_minor": 1
}
