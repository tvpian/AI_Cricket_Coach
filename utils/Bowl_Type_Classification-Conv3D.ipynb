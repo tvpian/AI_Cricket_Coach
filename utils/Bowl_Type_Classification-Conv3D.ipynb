{
 "cells": [
  {
   "cell_type": "markdown",
   "metadata": {
    "colab_type": "text",
    "id": "HcjhLtf_lj94"
   },
   "source": [
    "# Bowl_Type_Classification\n",
    "A 3D Conv model that will be able to predict the 3 bowl types correctly. Please import the following libraries to get started."
   ]
  },
  {
   "cell_type": "code",
   "execution_count": 168,
   "metadata": {
    "colab": {
     "base_uri": "https://localhost:8080/",
     "height": 1000
    },
    "colab_type": "code",
    "id": "B0p7hOvcl6pD",
    "outputId": "6ccb196b-ca98-4cc3-998f-6f9e7c773458"
   },
   "outputs": [
    {
     "name": "stdout",
     "output_type": "stream",
     "text": [
      "Archive:  /content/sample_data/test_set.zip\n",
      "   creating: /content/sample_data/test_set/test_set/\n",
      "   creating: /content/sample_data/test_set/test_set/Fast0/\n",
      "  inflating: /content/sample_data/test_set/test_set/Fast0/fs1_0.jpg  \n",
      "  inflating: /content/sample_data/test_set/test_set/Fast0/fs1_1.jpg  \n",
      "  inflating: /content/sample_data/test_set/test_set/Fast0/fs1_10.jpg  \n",
      "  inflating: /content/sample_data/test_set/test_set/Fast0/fs1_11.jpg  \n",
      "  inflating: /content/sample_data/test_set/test_set/Fast0/fs1_12.jpg  \n",
      "  inflating: /content/sample_data/test_set/test_set/Fast0/fs1_13.jpg  \n",
      "  inflating: /content/sample_data/test_set/test_set/Fast0/fs1_14.jpg  \n",
      "  inflating: /content/sample_data/test_set/test_set/Fast0/fs1_15.jpg  \n",
      "  inflating: /content/sample_data/test_set/test_set/Fast0/fs1_16.jpg  \n",
      "  inflating: /content/sample_data/test_set/test_set/Fast0/fs1_17.jpg  \n",
      "  inflating: /content/sample_data/test_set/test_set/Fast0/fs1_18.jpg  \n",
      "  inflating: /content/sample_data/test_set/test_set/Fast0/fs1_19.jpg  \n",
      "  inflating: /content/sample_data/test_set/test_set/Fast0/fs1_2.jpg  \n",
      "  inflating: /content/sample_data/test_set/test_set/Fast0/fs1_20.jpg  \n",
      "  inflating: /content/sample_data/test_set/test_set/Fast0/fs1_21.jpg  \n",
      "  inflating: /content/sample_data/test_set/test_set/Fast0/fs1_22.jpg  \n",
      "  inflating: /content/sample_data/test_set/test_set/Fast0/fs1_23.jpg  \n",
      "  inflating: /content/sample_data/test_set/test_set/Fast0/fs1_24.jpg  \n",
      "  inflating: /content/sample_data/test_set/test_set/Fast0/fs1_25.jpg  \n",
      "  inflating: /content/sample_data/test_set/test_set/Fast0/fs1_26.jpg  \n",
      "  inflating: /content/sample_data/test_set/test_set/Fast0/fs1_27.jpg  \n",
      "  inflating: /content/sample_data/test_set/test_set/Fast0/fs1_28.jpg  \n",
      "  inflating: /content/sample_data/test_set/test_set/Fast0/fs1_29.jpg  \n",
      "  inflating: /content/sample_data/test_set/test_set/Fast0/fs1_3.jpg  \n",
      "  inflating: /content/sample_data/test_set/test_set/Fast0/fs1_30.jpg  \n",
      "  inflating: /content/sample_data/test_set/test_set/Fast0/fs1_4.jpg  \n",
      "  inflating: /content/sample_data/test_set/test_set/Fast0/fs1_5.jpg  \n",
      "  inflating: /content/sample_data/test_set/test_set/Fast0/fs1_6.jpg  \n",
      "  inflating: /content/sample_data/test_set/test_set/Fast0/fs1_7.jpg  \n",
      "  inflating: /content/sample_data/test_set/test_set/Fast0/fs1_8.jpg  \n",
      "  inflating: /content/sample_data/test_set/test_set/Fast0/fs1_9.jpg  \n",
      "   creating: /content/sample_data/test_set/test_set/Fast1/\n",
      "  inflating: /content/sample_data/test_set/test_set/Fast1/fs2_0.jpg  \n",
      "  inflating: /content/sample_data/test_set/test_set/Fast1/fs2_1.jpg  \n",
      "  inflating: /content/sample_data/test_set/test_set/Fast1/fs2_10.jpg  \n",
      "  inflating: /content/sample_data/test_set/test_set/Fast1/fs2_11.jpg  \n",
      "  inflating: /content/sample_data/test_set/test_set/Fast1/fs2_12.jpg  \n",
      "  inflating: /content/sample_data/test_set/test_set/Fast1/fs2_13.jpg  \n",
      "  inflating: /content/sample_data/test_set/test_set/Fast1/fs2_14.jpg  \n",
      "  inflating: /content/sample_data/test_set/test_set/Fast1/fs2_15.jpg  \n",
      "  inflating: /content/sample_data/test_set/test_set/Fast1/fs2_16.jpg  \n",
      "  inflating: /content/sample_data/test_set/test_set/Fast1/fs2_17.jpg  \n",
      "  inflating: /content/sample_data/test_set/test_set/Fast1/fs2_18.jpg  \n",
      "  inflating: /content/sample_data/test_set/test_set/Fast1/fs2_19.jpg  \n",
      "  inflating: /content/sample_data/test_set/test_set/Fast1/fs2_2.jpg  \n",
      "  inflating: /content/sample_data/test_set/test_set/Fast1/fs2_20.jpg  \n",
      "  inflating: /content/sample_data/test_set/test_set/Fast1/fs2_21.jpg  \n",
      "  inflating: /content/sample_data/test_set/test_set/Fast1/fs2_22.jpg  \n",
      "  inflating: /content/sample_data/test_set/test_set/Fast1/fs2_23.jpg  \n",
      "  inflating: /content/sample_data/test_set/test_set/Fast1/fs2_24.jpg  \n",
      "  inflating: /content/sample_data/test_set/test_set/Fast1/fs2_25.jpg  \n",
      "  inflating: /content/sample_data/test_set/test_set/Fast1/fs2_26.jpg  \n",
      "  inflating: /content/sample_data/test_set/test_set/Fast1/fs2_27.jpg  \n",
      "  inflating: /content/sample_data/test_set/test_set/Fast1/fs2_28.jpg  \n",
      "  inflating: /content/sample_data/test_set/test_set/Fast1/fs2_29.jpg  \n",
      "  inflating: /content/sample_data/test_set/test_set/Fast1/fs2_3.jpg  \n",
      "  inflating: /content/sample_data/test_set/test_set/Fast1/fs2_30.jpg  \n",
      "  inflating: /content/sample_data/test_set/test_set/Fast1/fs2_31.jpg  \n",
      "  inflating: /content/sample_data/test_set/test_set/Fast1/fs2_32.jpg  \n",
      "  inflating: /content/sample_data/test_set/test_set/Fast1/fs2_33.jpg  \n",
      "  inflating: /content/sample_data/test_set/test_set/Fast1/fs2_34.jpg  \n",
      "  inflating: /content/sample_data/test_set/test_set/Fast1/fs2_4.jpg  \n",
      "  inflating: /content/sample_data/test_set/test_set/Fast1/fs2_5.jpg  \n",
      "  inflating: /content/sample_data/test_set/test_set/Fast1/fs2_6.jpg  \n",
      "  inflating: /content/sample_data/test_set/test_set/Fast1/fs2_7.jpg  \n",
      "  inflating: /content/sample_data/test_set/test_set/Fast1/fs2_8.jpg  \n",
      "  inflating: /content/sample_data/test_set/test_set/Fast1/fs2_9.jpg  \n",
      "   creating: /content/sample_data/test_set/test_set/Fast2/\n",
      "  inflating: /content/sample_data/test_set/test_set/Fast2/fs3_0.jpg  \n",
      "  inflating: /content/sample_data/test_set/test_set/Fast2/fs3_1.jpg  \n",
      "  inflating: /content/sample_data/test_set/test_set/Fast2/fs3_10.jpg  \n",
      "  inflating: /content/sample_data/test_set/test_set/Fast2/fs3_11.jpg  \n",
      "  inflating: /content/sample_data/test_set/test_set/Fast2/fs3_12.jpg  \n",
      "  inflating: /content/sample_data/test_set/test_set/Fast2/fs3_13.jpg  \n",
      "  inflating: /content/sample_data/test_set/test_set/Fast2/fs3_14.jpg  \n",
      "  inflating: /content/sample_data/test_set/test_set/Fast2/fs3_15.jpg  \n",
      "  inflating: /content/sample_data/test_set/test_set/Fast2/fs3_16.jpg  \n",
      "  inflating: /content/sample_data/test_set/test_set/Fast2/fs3_17.jpg  \n",
      "  inflating: /content/sample_data/test_set/test_set/Fast2/fs3_18.jpg  \n",
      "  inflating: /content/sample_data/test_set/test_set/Fast2/fs3_19.jpg  \n",
      "  inflating: /content/sample_data/test_set/test_set/Fast2/fs3_2.jpg  \n",
      "  inflating: /content/sample_data/test_set/test_set/Fast2/fs3_20.jpg  \n",
      "  inflating: /content/sample_data/test_set/test_set/Fast2/fs3_21.jpg  \n",
      "  inflating: /content/sample_data/test_set/test_set/Fast2/fs3_22.jpg  \n",
      "  inflating: /content/sample_data/test_set/test_set/Fast2/fs3_23.jpg  \n",
      "  inflating: /content/sample_data/test_set/test_set/Fast2/fs3_24.jpg  \n",
      "  inflating: /content/sample_data/test_set/test_set/Fast2/fs3_25.jpg  \n",
      "  inflating: /content/sample_data/test_set/test_set/Fast2/fs3_26.jpg  \n",
      "  inflating: /content/sample_data/test_set/test_set/Fast2/fs3_27.jpg  \n",
      "  inflating: /content/sample_data/test_set/test_set/Fast2/fs3_28.jpg  \n",
      "  inflating: /content/sample_data/test_set/test_set/Fast2/fs3_29.jpg  \n",
      "  inflating: /content/sample_data/test_set/test_set/Fast2/fs3_3.jpg  \n",
      "  inflating: /content/sample_data/test_set/test_set/Fast2/fs3_30.jpg  \n",
      "  inflating: /content/sample_data/test_set/test_set/Fast2/fs3_4.jpg  \n",
      "  inflating: /content/sample_data/test_set/test_set/Fast2/fs3_5.jpg  \n",
      "  inflating: /content/sample_data/test_set/test_set/Fast2/fs3_6.jpg  \n",
      "  inflating: /content/sample_data/test_set/test_set/Fast2/fs3_7.jpg  \n",
      "  inflating: /content/sample_data/test_set/test_set/Fast2/fs3_8.jpg  \n",
      "  inflating: /content/sample_data/test_set/test_set/Fast2/fs3_9.jpg  \n",
      "   creating: /content/sample_data/test_set/test_set/Legspin0/\n",
      "  inflating: /content/sample_data/test_set/test_set/Legspin0/ls1_0.jpg  \n",
      "  inflating: /content/sample_data/test_set/test_set/Legspin0/ls1_1.jpg  \n",
      "  inflating: /content/sample_data/test_set/test_set/Legspin0/ls1_10.jpg  \n",
      "  inflating: /content/sample_data/test_set/test_set/Legspin0/ls1_11.jpg  \n",
      "  inflating: /content/sample_data/test_set/test_set/Legspin0/ls1_12.jpg  \n",
      "  inflating: /content/sample_data/test_set/test_set/Legspin0/ls1_13.jpg  \n",
      "  inflating: /content/sample_data/test_set/test_set/Legspin0/ls1_14.jpg  \n",
      "  inflating: /content/sample_data/test_set/test_set/Legspin0/ls1_15.jpg  \n",
      "  inflating: /content/sample_data/test_set/test_set/Legspin0/ls1_16.jpg  \n",
      "  inflating: /content/sample_data/test_set/test_set/Legspin0/ls1_17.jpg  \n",
      "  inflating: /content/sample_data/test_set/test_set/Legspin0/ls1_18.jpg  \n",
      "  inflating: /content/sample_data/test_set/test_set/Legspin0/ls1_19.jpg  \n",
      "  inflating: /content/sample_data/test_set/test_set/Legspin0/ls1_2.jpg  \n",
      "  inflating: /content/sample_data/test_set/test_set/Legspin0/ls1_20.jpg  \n",
      "  inflating: /content/sample_data/test_set/test_set/Legspin0/ls1_21.jpg  \n",
      "  inflating: /content/sample_data/test_set/test_set/Legspin0/ls1_22.jpg  \n",
      "  inflating: /content/sample_data/test_set/test_set/Legspin0/ls1_23.jpg  \n",
      "  inflating: /content/sample_data/test_set/test_set/Legspin0/ls1_24.jpg  \n",
      "  inflating: /content/sample_data/test_set/test_set/Legspin0/ls1_25.jpg  \n",
      "  inflating: /content/sample_data/test_set/test_set/Legspin0/ls1_26.jpg  \n",
      "  inflating: /content/sample_data/test_set/test_set/Legspin0/ls1_27.jpg  \n",
      "  inflating: /content/sample_data/test_set/test_set/Legspin0/ls1_28.jpg  \n",
      "  inflating: /content/sample_data/test_set/test_set/Legspin0/ls1_29.jpg  \n",
      "  inflating: /content/sample_data/test_set/test_set/Legspin0/ls1_3.jpg  \n",
      "  inflating: /content/sample_data/test_set/test_set/Legspin0/ls1_4.jpg  \n",
      "  inflating: /content/sample_data/test_set/test_set/Legspin0/ls1_5.jpg  \n",
      "  inflating: /content/sample_data/test_set/test_set/Legspin0/ls1_6.jpg  \n",
      "  inflating: /content/sample_data/test_set/test_set/Legspin0/ls1_7.jpg  \n",
      "  inflating: /content/sample_data/test_set/test_set/Legspin0/ls1_8.jpg  \n",
      "  inflating: /content/sample_data/test_set/test_set/Legspin0/ls1_9.jpg  \n",
      "   creating: /content/sample_data/test_set/test_set/Legspin1/\n",
      "  inflating: /content/sample_data/test_set/test_set/Legspin1/ls2_0.jpg  \n",
      "  inflating: /content/sample_data/test_set/test_set/Legspin1/ls2_1.jpg  \n",
      "  inflating: /content/sample_data/test_set/test_set/Legspin1/ls2_10.jpg  \n",
      "  inflating: /content/sample_data/test_set/test_set/Legspin1/ls2_11.jpg  \n",
      "  inflating: /content/sample_data/test_set/test_set/Legspin1/ls2_12.jpg  \n",
      "  inflating: /content/sample_data/test_set/test_set/Legspin1/ls2_13.jpg  \n",
      "  inflating: /content/sample_data/test_set/test_set/Legspin1/ls2_14.jpg  \n",
      "  inflating: /content/sample_data/test_set/test_set/Legspin1/ls2_15.jpg  \n",
      "  inflating: /content/sample_data/test_set/test_set/Legspin1/ls2_16.jpg  \n",
      "  inflating: /content/sample_data/test_set/test_set/Legspin1/ls2_17.jpg  \n",
      "  inflating: /content/sample_data/test_set/test_set/Legspin1/ls2_18.jpg  \n",
      "  inflating: /content/sample_data/test_set/test_set/Legspin1/ls2_19.jpg  \n",
      "  inflating: /content/sample_data/test_set/test_set/Legspin1/ls2_2.jpg  \n",
      "  inflating: /content/sample_data/test_set/test_set/Legspin1/ls2_20.jpg  \n",
      "  inflating: /content/sample_data/test_set/test_set/Legspin1/ls2_21.jpg  \n",
      "  inflating: /content/sample_data/test_set/test_set/Legspin1/ls2_22.jpg  \n",
      "  inflating: /content/sample_data/test_set/test_set/Legspin1/ls2_23.jpg  \n",
      "  inflating: /content/sample_data/test_set/test_set/Legspin1/ls2_24.jpg  \n",
      "  inflating: /content/sample_data/test_set/test_set/Legspin1/ls2_25.jpg  \n",
      "  inflating: /content/sample_data/test_set/test_set/Legspin1/ls2_26.jpg  \n",
      "  inflating: /content/sample_data/test_set/test_set/Legspin1/ls2_27.jpg  \n",
      "  inflating: /content/sample_data/test_set/test_set/Legspin1/ls2_28.jpg  \n",
      "  inflating: /content/sample_data/test_set/test_set/Legspin1/ls2_29.jpg  \n",
      "  inflating: /content/sample_data/test_set/test_set/Legspin1/ls2_3.jpg  \n",
      "  inflating: /content/sample_data/test_set/test_set/Legspin1/ls2_4.jpg  \n",
      "  inflating: /content/sample_data/test_set/test_set/Legspin1/ls2_5.jpg  \n",
      "  inflating: /content/sample_data/test_set/test_set/Legspin1/ls2_6.jpg  \n",
      "  inflating: /content/sample_data/test_set/test_set/Legspin1/ls2_7.jpg  \n",
      "  inflating: /content/sample_data/test_set/test_set/Legspin1/ls2_8.jpg  \n",
      "  inflating: /content/sample_data/test_set/test_set/Legspin1/ls2_9.jpg  \n",
      "   creating: /content/sample_data/test_set/test_set/Legspin3/\n",
      "  inflating: /content/sample_data/test_set/test_set/Legspin3/ls3_0.jpg  \n",
      "  inflating: /content/sample_data/test_set/test_set/Legspin3/ls3_1.jpg  \n",
      "  inflating: /content/sample_data/test_set/test_set/Legspin3/ls3_10.jpg  \n",
      "  inflating: /content/sample_data/test_set/test_set/Legspin3/ls3_11.jpg  \n",
      "  inflating: /content/sample_data/test_set/test_set/Legspin3/ls3_12.jpg  \n",
      "  inflating: /content/sample_data/test_set/test_set/Legspin3/ls3_13.jpg  \n",
      "  inflating: /content/sample_data/test_set/test_set/Legspin3/ls3_14.jpg  \n",
      "  inflating: /content/sample_data/test_set/test_set/Legspin3/ls3_15.jpg  \n",
      "  inflating: /content/sample_data/test_set/test_set/Legspin3/ls3_16.jpg  \n",
      "  inflating: /content/sample_data/test_set/test_set/Legspin3/ls3_17.jpg  \n",
      "  inflating: /content/sample_data/test_set/test_set/Legspin3/ls3_18.jpg  \n",
      "  inflating: /content/sample_data/test_set/test_set/Legspin3/ls3_19.jpg  \n",
      "  inflating: /content/sample_data/test_set/test_set/Legspin3/ls3_2.jpg  \n",
      "  inflating: /content/sample_data/test_set/test_set/Legspin3/ls3_20.jpg  \n",
      "  inflating: /content/sample_data/test_set/test_set/Legspin3/ls3_21.jpg  \n",
      "  inflating: /content/sample_data/test_set/test_set/Legspin3/ls3_22.jpg  \n",
      "  inflating: /content/sample_data/test_set/test_set/Legspin3/ls3_23.jpg  \n",
      "  inflating: /content/sample_data/test_set/test_set/Legspin3/ls3_24.jpg  \n",
      "  inflating: /content/sample_data/test_set/test_set/Legspin3/ls3_25.jpg  \n",
      "  inflating: /content/sample_data/test_set/test_set/Legspin3/ls3_26.jpg  \n",
      "  inflating: /content/sample_data/test_set/test_set/Legspin3/ls3_27.jpg  \n",
      "  inflating: /content/sample_data/test_set/test_set/Legspin3/ls3_28.jpg  \n",
      "  inflating: /content/sample_data/test_set/test_set/Legspin3/ls3_29.jpg  \n",
      "  inflating: /content/sample_data/test_set/test_set/Legspin3/ls3_3.jpg  \n",
      "  inflating: /content/sample_data/test_set/test_set/Legspin3/ls3_30.jpg  \n",
      "  inflating: /content/sample_data/test_set/test_set/Legspin3/ls3_31.jpg  \n",
      "  inflating: /content/sample_data/test_set/test_set/Legspin3/ls3_4.jpg  \n",
      "  inflating: /content/sample_data/test_set/test_set/Legspin3/ls3_5.jpg  \n",
      "  inflating: /content/sample_data/test_set/test_set/Legspin3/ls3_6.jpg  \n",
      "  inflating: /content/sample_data/test_set/test_set/Legspin3/ls3_7.jpg  \n",
      "  inflating: /content/sample_data/test_set/test_set/Legspin3/ls3_8.jpg  \n",
      "  inflating: /content/sample_data/test_set/test_set/Legspin3/ls3_9.jpg  \n",
      "   creating: /content/sample_data/test_set/test_set/Offspin0/\n",
      "  inflating: /content/sample_data/test_set/test_set/Offspin0/os1_0.jpg  \n",
      "  inflating: /content/sample_data/test_set/test_set/Offspin0/os1_1.jpg  \n",
      "  inflating: /content/sample_data/test_set/test_set/Offspin0/os1_10.jpg  \n",
      "  inflating: /content/sample_data/test_set/test_set/Offspin0/os1_11.jpg  \n",
      "  inflating: /content/sample_data/test_set/test_set/Offspin0/os1_12.jpg  \n",
      "  inflating: /content/sample_data/test_set/test_set/Offspin0/os1_13.jpg  \n",
      "  inflating: /content/sample_data/test_set/test_set/Offspin0/os1_14.jpg  \n",
      "  inflating: /content/sample_data/test_set/test_set/Offspin0/os1_15.jpg  \n",
      "  inflating: /content/sample_data/test_set/test_set/Offspin0/os1_16.jpg  \n",
      "  inflating: /content/sample_data/test_set/test_set/Offspin0/os1_17.jpg  \n",
      "  inflating: /content/sample_data/test_set/test_set/Offspin0/os1_18.jpg  \n",
      "  inflating: /content/sample_data/test_set/test_set/Offspin0/os1_19.jpg  \n",
      "  inflating: /content/sample_data/test_set/test_set/Offspin0/os1_2.jpg  \n",
      "  inflating: /content/sample_data/test_set/test_set/Offspin0/os1_20.jpg  \n",
      "  inflating: /content/sample_data/test_set/test_set/Offspin0/os1_21.jpg  \n",
      "  inflating: /content/sample_data/test_set/test_set/Offspin0/os1_22.jpg  \n",
      "  inflating: /content/sample_data/test_set/test_set/Offspin0/os1_23.jpg  \n",
      "  inflating: /content/sample_data/test_set/test_set/Offspin0/os1_24.jpg  \n",
      "  inflating: /content/sample_data/test_set/test_set/Offspin0/os1_25.jpg  \n",
      "  inflating: /content/sample_data/test_set/test_set/Offspin0/os1_26.jpg  \n",
      "  inflating: /content/sample_data/test_set/test_set/Offspin0/os1_27.jpg  \n",
      "  inflating: /content/sample_data/test_set/test_set/Offspin0/os1_28.jpg  \n",
      "  inflating: /content/sample_data/test_set/test_set/Offspin0/os1_29.jpg  \n",
      "  inflating: /content/sample_data/test_set/test_set/Offspin0/os1_3.jpg  \n",
      "  inflating: /content/sample_data/test_set/test_set/Offspin0/os1_30.jpg  \n",
      "  inflating: /content/sample_data/test_set/test_set/Offspin0/os1_4.jpg  \n",
      "  inflating: /content/sample_data/test_set/test_set/Offspin0/os1_5.jpg  \n",
      "  inflating: /content/sample_data/test_set/test_set/Offspin0/os1_6.jpg  \n",
      "  inflating: /content/sample_data/test_set/test_set/Offspin0/os1_7.jpg  \n",
      "  inflating: /content/sample_data/test_set/test_set/Offspin0/os1_8.jpg  \n",
      "  inflating: /content/sample_data/test_set/test_set/Offspin0/os1_9.jpg  \n",
      "   creating: /content/sample_data/test_set/test_set/Offspin1/\n",
      "  inflating: /content/sample_data/test_set/test_set/Offspin1/os2_0.jpg  \n",
      "  inflating: /content/sample_data/test_set/test_set/Offspin1/os2_1.jpg  \n",
      "  inflating: /content/sample_data/test_set/test_set/Offspin1/os2_10.jpg  \n",
      "  inflating: /content/sample_data/test_set/test_set/Offspin1/os2_11.jpg  \n",
      "  inflating: /content/sample_data/test_set/test_set/Offspin1/os2_12.jpg  \n",
      "  inflating: /content/sample_data/test_set/test_set/Offspin1/os2_13.jpg  \n",
      "  inflating: /content/sample_data/test_set/test_set/Offspin1/os2_14.jpg  \n",
      "  inflating: /content/sample_data/test_set/test_set/Offspin1/os2_15.jpg  \n",
      "  inflating: /content/sample_data/test_set/test_set/Offspin1/os2_16.jpg  \n",
      "  inflating: /content/sample_data/test_set/test_set/Offspin1/os2_17.jpg  \n",
      "  inflating: /content/sample_data/test_set/test_set/Offspin1/os2_18.jpg  \n",
      "  inflating: /content/sample_data/test_set/test_set/Offspin1/os2_19.jpg  \n",
      "  inflating: /content/sample_data/test_set/test_set/Offspin1/os2_2.jpg  \n",
      "  inflating: /content/sample_data/test_set/test_set/Offspin1/os2_20.jpg  \n",
      "  inflating: /content/sample_data/test_set/test_set/Offspin1/os2_21.jpg  \n",
      "  inflating: /content/sample_data/test_set/test_set/Offspin1/os2_22.jpg  \n",
      "  inflating: /content/sample_data/test_set/test_set/Offspin1/os2_23.jpg  \n",
      "  inflating: /content/sample_data/test_set/test_set/Offspin1/os2_24.jpg  \n",
      "  inflating: /content/sample_data/test_set/test_set/Offspin1/os2_25.jpg  \n",
      "  inflating: /content/sample_data/test_set/test_set/Offspin1/os2_26.jpg  \n",
      "  inflating: /content/sample_data/test_set/test_set/Offspin1/os2_27.jpg  \n",
      "  inflating: /content/sample_data/test_set/test_set/Offspin1/os2_3.jpg  \n",
      "  inflating: /content/sample_data/test_set/test_set/Offspin1/os2_4.jpg  \n",
      "  inflating: /content/sample_data/test_set/test_set/Offspin1/os2_5.jpg  \n",
      "  inflating: /content/sample_data/test_set/test_set/Offspin1/os2_6.jpg  \n",
      "  inflating: /content/sample_data/test_set/test_set/Offspin1/os2_7.jpg  \n",
      "  inflating: /content/sample_data/test_set/test_set/Offspin1/os2_8.jpg  \n",
      "  inflating: /content/sample_data/test_set/test_set/Offspin1/os2_9.jpg  \n",
      "  inflating: /content/sample_data/test_set/test_set/test.csv  \n"
     ]
    }
   ],
   "source": [
    "!unzip /content/sample_data/test_set.zip -d /content/sample_data/test_set/\n",
    "#!pip install scipy==1.1.0\n",
    "\n"
   ]
  },
  {
   "cell_type": "code",
   "execution_count": 1,
   "metadata": {
    "colab": {},
    "colab_type": "code",
    "id": "AGVF-Le3lj95"
   },
   "outputs": [],
   "source": [
    "import numpy as np\n",
    "import os\n",
    "from scipy.misc import imread, imresize\n",
    "import datetime\n",
    "import os"
   ]
  },
  {
   "cell_type": "markdown",
   "metadata": {
    "colab_type": "text",
    "id": "ugqsjDkElj99"
   },
   "source": [
    "We set the random seed so that the results don't vary drastically."
   ]
  },
  {
   "cell_type": "code",
   "execution_count": 2,
   "metadata": {
    "colab": {},
    "colab_type": "code",
    "id": "zSyMTk0Ulj9-"
   },
   "outputs": [
    {
     "name": "stderr",
     "output_type": "stream",
     "text": [
      "Using TensorFlow backend.\n",
      "C:\\Users\\Administrator\\Anaconda3\\envs\\conda\\lib\\site-packages\\tensorflow\\python\\framework\\dtypes.py:517: FutureWarning: Passing (type, 1) or '1type' as a synonym of type is deprecated; in a future version of numpy, it will be understood as (type, (1,)) / '(1,)type'.\n",
      "  _np_qint8 = np.dtype([(\"qint8\", np.int8, 1)])\n",
      "C:\\Users\\Administrator\\Anaconda3\\envs\\conda\\lib\\site-packages\\tensorflow\\python\\framework\\dtypes.py:518: FutureWarning: Passing (type, 1) or '1type' as a synonym of type is deprecated; in a future version of numpy, it will be understood as (type, (1,)) / '(1,)type'.\n",
      "  _np_quint8 = np.dtype([(\"quint8\", np.uint8, 1)])\n",
      "C:\\Users\\Administrator\\Anaconda3\\envs\\conda\\lib\\site-packages\\tensorflow\\python\\framework\\dtypes.py:519: FutureWarning: Passing (type, 1) or '1type' as a synonym of type is deprecated; in a future version of numpy, it will be understood as (type, (1,)) / '(1,)type'.\n",
      "  _np_qint16 = np.dtype([(\"qint16\", np.int16, 1)])\n",
      "C:\\Users\\Administrator\\Anaconda3\\envs\\conda\\lib\\site-packages\\tensorflow\\python\\framework\\dtypes.py:520: FutureWarning: Passing (type, 1) or '1type' as a synonym of type is deprecated; in a future version of numpy, it will be understood as (type, (1,)) / '(1,)type'.\n",
      "  _np_quint16 = np.dtype([(\"quint16\", np.uint16, 1)])\n",
      "C:\\Users\\Administrator\\Anaconda3\\envs\\conda\\lib\\site-packages\\tensorflow\\python\\framework\\dtypes.py:521: FutureWarning: Passing (type, 1) or '1type' as a synonym of type is deprecated; in a future version of numpy, it will be understood as (type, (1,)) / '(1,)type'.\n",
      "  _np_qint32 = np.dtype([(\"qint32\", np.int32, 1)])\n",
      "C:\\Users\\Administrator\\Anaconda3\\envs\\conda\\lib\\site-packages\\tensorflow\\python\\framework\\dtypes.py:526: FutureWarning: Passing (type, 1) or '1type' as a synonym of type is deprecated; in a future version of numpy, it will be understood as (type, (1,)) / '(1,)type'.\n",
      "  np_resource = np.dtype([(\"resource\", np.ubyte, 1)])\n"
     ]
    },
    {
     "ename": "AttributeError",
     "evalue": "module 'tensorflow' has no attribute 'random'",
     "output_type": "error",
     "traceback": [
      "\u001b[1;31m---------------------------------------------------------------------------\u001b[0m",
      "\u001b[1;31mAttributeError\u001b[0m                            Traceback (most recent call last)",
      "\u001b[1;32m<ipython-input-2-67da017e4be7>\u001b[0m in \u001b[0;36m<module>\u001b[1;34m()\u001b[0m\n\u001b[0;32m      4\u001b[0m \u001b[1;32mfrom\u001b[0m \u001b[0mkeras\u001b[0m \u001b[1;32mimport\u001b[0m \u001b[0mbackend\u001b[0m \u001b[1;32mas\u001b[0m \u001b[0mK\u001b[0m\u001b[1;33m\u001b[0m\u001b[0m\n\u001b[0;32m      5\u001b[0m \u001b[1;32mimport\u001b[0m \u001b[0mtensorflow\u001b[0m \u001b[1;32mas\u001b[0m \u001b[0mtf\u001b[0m\u001b[1;33m\u001b[0m\u001b[0m\n\u001b[1;32m----> 6\u001b[1;33m \u001b[0mtf\u001b[0m\u001b[1;33m.\u001b[0m\u001b[0mrandom\u001b[0m\u001b[1;33m.\u001b[0m\u001b[0mset_seed\u001b[0m\u001b[1;33m(\u001b[0m\u001b[1;36m30\u001b[0m\u001b[1;33m)\u001b[0m\u001b[1;33m\u001b[0m\u001b[0m\n\u001b[0m",
      "\u001b[1;31mAttributeError\u001b[0m: module 'tensorflow' has no attribute 'random'"
     ]
    }
   ],
   "source": [
    "np.random.seed(30)\n",
    "import random as rn\n",
    "rn.seed(30)\n",
    "from keras import backend as K\n",
    "import tensorflow as tf\n",
    "tf.random.set_seed(30)"
   ]
  },
  {
   "cell_type": "markdown",
   "metadata": {
    "colab_type": "text",
    "id": "wwIyKAcdlj-B"
   },
   "source": [
    "In this block, you read the folder names for training and validation. You also set the `batch_size` here. Note that you set the batch size in such a way that you are able to use the GPU in full capacity. You keep increasing the batch size until the machine throws an error."
   ]
  },
  {
   "cell_type": "code",
   "execution_count": 150,
   "metadata": {
    "colab": {},
    "colab_type": "code",
    "id": "TGvKY2j3lj-B"
   },
   "outputs": [],
   "source": [
    "'''\n",
    "train_doc = np.random.permutation(open('/notebooks/storage/Final_data/Project_data/train.csv').readlines())\n",
    "val_doc = np.random.permutation(open('/notebooks/storage/Final_data/Project_data/val.csv').readlines())\n",
    "batch_size = 64\n",
    "'''\n",
    "train_doc = np.random.permutation(open('/content/sample_data/Dataset/train.csv').readlines())\n",
    "val_doc = np.random.permutation(open('/content/sample_data/Dataset/val.csv').readlines())\n",
    "batch_size = 5"
   ]
  },
  {
   "cell_type": "markdown",
   "metadata": {
    "colab_type": "text",
    "id": "S4hqfhOplj-E"
   },
   "source": [
    "## Generator\n",
    "This is one of the most important part of the code. The overall structure of the generator has been given. In the generator, you are going to preprocess the images as you have images of 2 different dimensions as well as create a batch of video frames. You have to experiment with some of the parts of the generator function such that you get high accuracy."
   ]
  },
  {
   "cell_type": "code",
   "execution_count": 151,
   "metadata": {
    "colab": {},
    "colab_type": "code",
    "id": "cQrLsW52lj-F"
   },
   "outputs": [],
   "source": [
    "def generator(source_path, folder_list, batch_size):\n",
    "    print( 'Source path = ', source_path, '; batch size =', batch_size)\n",
    "    img_idx = [0,1,2,4,6,8,10,12,14,16,18,20,22,24,26,27,28,29]\n",
    "    #img_idx = [0,1,2,3,4,5,6,7,8,9,10,11,12,13,14,15,16,17,18,19,20,21,22,23,24,25,26,27,28,29]\n",
    "    while True:\n",
    "        t = np.random.permutation(folder_list)\n",
    "        num_batches = int(len(t)/batch_size)\n",
    "        for batch in range(num_batches):\n",
    "            batch_data = np.zeros((batch_size,18,128,128,3))\n",
    "            batch_labels = np.zeros((batch_size,3))\n",
    "            for folder in range(batch_size):\n",
    "                imgs = os.listdir(source_path+'/'+ t[folder + (batch*batch_size)].split(';')[0])\n",
    "                for idx,item in enumerate(img_idx):\n",
    "                    #print(imgs[item])\n",
    "                    #print(source_path+'/'+ t[folder + (batch*batch_size)].strip().split(';')[0]+'/'+imgs[item])\n",
    "                    image = imread(source_path+'/'+ t[folder + (batch*batch_size)].strip().split(';')[0]+'/'+imgs[item]).astype(np.float32)\n",
    "                    image = imresize(image,(128,128)).astype(np.float32)\n",
    "                    '''\n",
    "                    if image.shape[1] == 160:\n",
    "                        image = imresize(image[:,20:140,:],(84,84)).astype(np.float32)\n",
    "                    else:\n",
    "                        image = imresize(image,(84,84)).astype(np.float32)\n",
    "                    '''\n",
    "                    batch_data[folder,idx,:,:,0] = image[:,:,0] - 104\n",
    "                    batch_data[folder,idx,:,:,1] = image[:,:,1] - 117\n",
    "                    batch_data[folder,idx,:,:,2] = image[:,:,2] - 123\n",
    "                    \n",
    "                batch_labels[folder, int(t[folder + (batch*batch_size)].strip().split(';')[2])] = 1\n",
    "            yield batch_data, batch_labels\n",
    "\n",
    "        if (len(t)%batch_size) != 0:\n",
    "            batch_data = np.zeros((len(t)%batch_size,18,128,128,3))\n",
    "            batch_labels = np.zeros((len(t)%batch_size,3))\n",
    "            for folder in range(len(t)%batch_size):\n",
    "                imgs = os.listdir(source_path+'/'+ t[folder + (num_batches*batch_size)].split(';')[0])\n",
    "                for idx,item in enumerate(img_idx):\n",
    "                    image = imread(source_path+'/'+ t[folder + (num_batches*batch_size)].strip().split(';')[0]+'/'+imgs[item]).astype(np.float32)\n",
    "                    image = imresize(image,(128,128)).astype(np.float32)\n",
    "                    '''\n",
    "                    print(image.shape[1],image.shape[0])\n",
    "                    if image.shape[1] == 460:\n",
    "                        image = imresize(image[:,20:140,:],(84,84)).astype(np.float32)\n",
    "                    else:\n",
    "                        image = imresize(image,(84,84)).astype(np.float32)\n",
    "                    '''\n",
    "\n",
    "                    batch_data[folder,idx,:,:,0] = image[:,:,0] - 104\n",
    "                    batch_data[folder,idx,:,:,1] = image[:,:,1] - 117\n",
    "                    batch_data[folder,idx,:,:,2] = image[:,:,2] - 123\n",
    "\n",
    "                batch_labels[folder, int(t[folder + (num_batches*batch_size)].strip().split(';')[2])] = 1\n",
    "\n",
    "            yield batch_data, batch_labels"
   ]
  },
  {
   "cell_type": "code",
   "execution_count": 152,
   "metadata": {
    "colab": {
     "base_uri": "https://localhost:8080/",
     "height": 68
    },
    "colab_type": "code",
    "id": "Hw4v5A4zlj-J",
    "outputId": "12ef8e03-9ee1-423c-e7bd-a5ae7c976ab4"
   },
   "outputs": [
    {
     "name": "stdout",
     "output_type": "stream",
     "text": [
      "# training sequences = 62\n",
      "# validation sequences = 30\n",
      "# epochs = 50\n"
     ]
    }
   ],
   "source": [
    "curr_dt_time = datetime.datetime.now()\n",
    "'''\n",
    "train_path = '/notebooks/storage/Final_data/Project_data/train'\n",
    "val_path = '/notebooks/storage/Final_data/Project_data/val'\n",
    "'''\n",
    "train_path = '/content/sample_data/Dataset/train'\n",
    "val_path = '/content/sample_data/Dataset/val'\n",
    "num_train_sequences = len(train_doc)\n",
    "print('# training sequences =', num_train_sequences)\n",
    "num_val_sequences = len(val_doc)\n",
    "print('# validation sequences =', num_val_sequences)\n",
    "num_epochs = 50\n",
    "print ('# epochs =', num_epochs)"
   ]
  },
  {
   "cell_type": "markdown",
   "metadata": {
    "colab_type": "text",
    "id": "6F2tZvv7lj-N"
   },
   "source": [
    "## Model\n",
    "Here you make the model using different functionalities that Keras provides. Remember to use `Conv3D` and `MaxPooling3D` and not `Conv2D` and `Maxpooling2D`. Also remember that the last layer is the softmax. Remember that the network is designed in such a way that the model is able to fit in the memory of the webcam."
   ]
  },
  {
   "cell_type": "code",
   "execution_count": 153,
   "metadata": {
    "colab": {},
    "colab_type": "code",
    "id": "sSKKWufxlj-O"
   },
   "outputs": [],
   "source": [
    "from keras.models import Sequential\n",
    "from keras.layers import Dense, GRU, Dropout, Flatten, BatchNormalization, Activation\n",
    "from keras.layers.convolutional import Conv3D, MaxPooling3D\n",
    "from keras.callbacks import ModelCheckpoint, ReduceLROnPlateau\n",
    "from keras import optimizers\n",
    "\n",
    "model = Sequential()\n",
    "model.add(Conv3D(64, (3,3,3), strides=(1,1,1), padding='same', input_shape=(18,128,128,3)))\n",
    "model.add(BatchNormalization())\n",
    "model.add(Activation('relu'))\n",
    "model.add(MaxPooling3D(pool_size=(2,2,1), strides=(2,2,1)))\n",
    "\n",
    "model.add(Conv3D(128, (3,3,3), strides=(1,1,1), padding='same'))\n",
    "\n",
    "model.add(BatchNormalization())\n",
    "model.add(Activation('relu'))\n",
    "model.add(MaxPooling3D(pool_size=(2,2,2), strides=(2,2,2)))\n",
    "\n",
    "# model.add(Dropout(0.25))\n",
    "\n",
    "model.add(Conv3D(256, (3,3,3), strides=(1,1,1), padding='same'))\n",
    "model.add(BatchNormalization())\n",
    "model.add(Activation('relu'))\n",
    "model.add(MaxPooling3D(pool_size=(2,2,2), strides=(2,2,2)))\n",
    "\n",
    "# model.add(Dropout(0.25))\n",
    "\n",
    "model.add(Conv3D(256, (3,3,3), strides=(1,1,1), padding='same'))\n",
    "model.add(BatchNormalization())\n",
    "model.add(Activation('relu'))\n",
    "model.add(MaxPooling3D(pool_size=(2,2,2), strides=(2,2,2)))\n",
    "\n",
    "model.add(Flatten())\n",
    "model.add(Dropout(0.5))\n",
    "model.add(Dense(512, activation='relu'))\n",
    "model.add(Dropout(0.5))\n",
    "model.add(Dense(3, activation='softmax'))"
   ]
  },
  {
   "cell_type": "markdown",
   "metadata": {
    "colab_type": "text",
    "id": "z36dWzJRlj-S"
   },
   "source": [
    "Now that you have written the model, the next step is to `compile` the model. When you print the `summary` of the model, you'll see the total number of parameters you have to train."
   ]
  },
  {
   "cell_type": "code",
   "execution_count": 154,
   "metadata": {
    "colab": {
     "base_uri": "https://localhost:8080/",
     "height": 884
    },
    "colab_type": "code",
    "id": "GXPmIGYblj-S",
    "outputId": "7583a99e-2f26-410e-beaa-552c79813c66"
   },
   "outputs": [
    {
     "name": "stdout",
     "output_type": "stream",
     "text": [
      "Model: \"sequential_14\"\n",
      "_________________________________________________________________\n",
      "Layer (type)                 Output Shape              Param #   \n",
      "=================================================================\n",
      "conv3d_53 (Conv3D)           (None, 18, 128, 128, 64)  5248      \n",
      "_________________________________________________________________\n",
      "batch_normalization_53 (Batc (None, 18, 128, 128, 64)  256       \n",
      "_________________________________________________________________\n",
      "activation_53 (Activation)   (None, 18, 128, 128, 64)  0         \n",
      "_________________________________________________________________\n",
      "max_pooling3d_53 (MaxPooling (None, 9, 64, 128, 64)    0         \n",
      "_________________________________________________________________\n",
      "conv3d_54 (Conv3D)           (None, 9, 64, 128, 128)   221312    \n",
      "_________________________________________________________________\n",
      "batch_normalization_54 (Batc (None, 9, 64, 128, 128)   512       \n",
      "_________________________________________________________________\n",
      "activation_54 (Activation)   (None, 9, 64, 128, 128)   0         \n",
      "_________________________________________________________________\n",
      "max_pooling3d_54 (MaxPooling (None, 4, 32, 64, 128)    0         \n",
      "_________________________________________________________________\n",
      "conv3d_55 (Conv3D)           (None, 4, 32, 64, 256)    884992    \n",
      "_________________________________________________________________\n",
      "batch_normalization_55 (Batc (None, 4, 32, 64, 256)    1024      \n",
      "_________________________________________________________________\n",
      "activation_55 (Activation)   (None, 4, 32, 64, 256)    0         \n",
      "_________________________________________________________________\n",
      "max_pooling3d_55 (MaxPooling (None, 2, 16, 32, 256)    0         \n",
      "_________________________________________________________________\n",
      "conv3d_56 (Conv3D)           (None, 2, 16, 32, 256)    1769728   \n",
      "_________________________________________________________________\n",
      "batch_normalization_56 (Batc (None, 2, 16, 32, 256)    1024      \n",
      "_________________________________________________________________\n",
      "activation_56 (Activation)   (None, 2, 16, 32, 256)    0         \n",
      "_________________________________________________________________\n",
      "max_pooling3d_56 (MaxPooling (None, 1, 8, 16, 256)     0         \n",
      "_________________________________________________________________\n",
      "flatten_14 (Flatten)         (None, 32768)             0         \n",
      "_________________________________________________________________\n",
      "dropout_27 (Dropout)         (None, 32768)             0         \n",
      "_________________________________________________________________\n",
      "dense_27 (Dense)             (None, 512)               16777728  \n",
      "_________________________________________________________________\n",
      "dropout_28 (Dropout)         (None, 512)               0         \n",
      "_________________________________________________________________\n",
      "dense_28 (Dense)             (None, 3)                 1539      \n",
      "=================================================================\n",
      "Total params: 19,663,363\n",
      "Trainable params: 19,661,955\n",
      "Non-trainable params: 1,408\n",
      "_________________________________________________________________\n",
      "None\n"
     ]
    }
   ],
   "source": [
    "'''\n",
    "sgd = optimizers.SGD(lr=0.001, decay=1e-6, momentum=0.7, nesterov=True)\n",
    "model.compile(optimizer=sgd, loss='categorical_crossentropy', metrics=['categorical_accuracy'])\n",
    "print (model.summary())\n",
    "'''\n",
    "\"\"\"\n",
    "#Best so far\n",
    "sgd = optimizers.SGD(lr=0.001, decay=1e-6, momentum=0.2, nesterov=True)\n",
    "model.compile(optimizer=sgd, loss='categorical_crossentropy', metrics=['categorical_accuracy'])\n",
    "print (model.summary())\n",
    "\"\"\"\n",
    "sgd = optimizers.SGD(lr=0.001, decay=1e-6, momentum=0.2, nesterov=True)\n",
    "model.compile(optimizer=sgd, loss='categorical_crossentropy', metrics=['categorical_accuracy'])\n",
    "print (model.summary())"
   ]
  },
  {
   "cell_type": "markdown",
   "metadata": {
    "colab_type": "text",
    "id": "7Jy2XSSAlj-Y"
   },
   "source": [
    "Let us create the `train_generator` and the `val_generator` which will be used in `.fit_generator`."
   ]
  },
  {
   "cell_type": "code",
   "execution_count": 155,
   "metadata": {
    "colab": {},
    "colab_type": "code",
    "id": "gHWQzU9hlj-a"
   },
   "outputs": [],
   "source": [
    "train_generator = generator(train_path, train_doc, batch_size)\n",
    "val_generator = generator(val_path, val_doc, batch_size)"
   ]
  },
  {
   "cell_type": "code",
   "execution_count": 156,
   "metadata": {
    "colab": {
     "base_uri": "https://localhost:8080/",
     "height": 71
    },
    "colab_type": "code",
    "id": "Dwmccn16lj-c",
    "outputId": "fc6717ee-4aec-41d2-c8a7-f21cfa97e95b"
   },
   "outputs": [
    {
     "name": "stderr",
     "output_type": "stream",
     "text": [
      "/usr/local/lib/python3.6/dist-packages/keras/callbacks/callbacks.py:998: UserWarning: `epsilon` argument is deprecated and will be removed, use `min_delta` instead.\n",
      "  warnings.warn('`epsilon` argument is deprecated and '\n"
     ]
    }
   ],
   "source": [
    "model_name = 'model_init' + '_' + str(curr_dt_time).replace(' ','').replace(':','_') + '/'\n",
    "    \n",
    "if not os.path.exists(model_name):\n",
    "    os.mkdir(model_name)\n",
    "        \n",
    "filepath = model_name + 'model-{epoch:05d}-{loss:.5f}-{categorical_accuracy:.5f}-{val_loss:.5f}-{val_categorical_accuracy:.5f}.h5'\n",
    "\n",
    "checkpoint = ModelCheckpoint(filepath, monitor='val_loss', verbose=1, save_best_only=False, save_weights_only=False, mode='auto', period=1)\n",
    "\n",
    "LR = ReduceLROnPlateau(monitor='val_loss', factor=0.5, patience=2, verbose=1, mode='min', epsilon=0.0001, cooldown=0, min_lr=0.00001)\n",
    "callbacks_list = [checkpoint, LR]"
   ]
  },
  {
   "cell_type": "code",
   "execution_count": 157,
   "metadata": {
    "colab": {},
    "colab_type": "code",
    "id": "_oMxlgCSlj-f"
   },
   "outputs": [],
   "source": [
    "if (num_train_sequences%batch_size) == 0:\n",
    "    steps_per_epoch = int(num_train_sequences/batch_size)\n",
    "else:\n",
    "    steps_per_epoch = (num_train_sequences//batch_size) + 1\n",
    "\n",
    "if (num_val_sequences%batch_size) == 0:\n",
    "    validation_steps = int(num_val_sequences/batch_size)\n",
    "else:\n",
    "    validation_steps = (num_val_sequences//batch_size) + 1"
   ]
  },
  {
   "cell_type": "code",
   "execution_count": 158,
   "metadata": {
    "colab": {
     "base_uri": "https://localhost:8080/",
     "height": 1000
    },
    "colab_type": "code",
    "id": "2fdIJF0vlj-j",
    "outputId": "8ece80ec-5f8d-46b4-a6ee-e831aab7423b"
   },
   "outputs": [
    {
     "name": "stdout",
     "output_type": "stream",
     "text": [
      "Epoch 1/50\n",
      "Source path =  /content/sample_data/Dataset/valSource path =  ; batch size = 5\n",
      " /content/sample_data/Dataset/train ; batch size = 5\n"
     ]
    },
    {
     "name": "stderr",
     "output_type": "stream",
     "text": [
      "/usr/local/lib/python3.6/dist-packages/ipykernel_launcher.py:16: DeprecationWarning: `imread` is deprecated!\n",
      "`imread` is deprecated in SciPy 1.0.0, and will be removed in 1.2.0.\n",
      "Use ``imageio.imread`` instead.\n",
      "  app.launch_new_instance()\n",
      "/usr/local/lib/python3.6/dist-packages/ipykernel_launcher.py:17: DeprecationWarning: `imresize` is deprecated!\n",
      "`imresize` is deprecated in SciPy 1.0.0, and will be removed in 1.2.0.\n",
      "Use ``skimage.transform.resize`` instead.\n"
     ]
    },
    {
     "name": "stdout",
     "output_type": "stream",
     "text": [
      "11/13 [========================>.....] - ETA: 3s - loss: 7.8175 - categorical_accuracy: 0.3091"
     ]
    },
    {
     "name": "stderr",
     "output_type": "stream",
     "text": [
      "/usr/local/lib/python3.6/dist-packages/ipykernel_launcher.py:37: DeprecationWarning: `imread` is deprecated!\n",
      "`imread` is deprecated in SciPy 1.0.0, and will be removed in 1.2.0.\n",
      "Use ``imageio.imread`` instead.\n",
      "/usr/local/lib/python3.6/dist-packages/ipykernel_launcher.py:38: DeprecationWarning: `imresize` is deprecated!\n",
      "`imresize` is deprecated in SciPy 1.0.0, and will be removed in 1.2.0.\n",
      "Use ``skimage.transform.resize`` instead.\n"
     ]
    },
    {
     "name": "stdout",
     "output_type": "stream",
     "text": [
      "13/13 [==============================] - 21s 2s/step - loss: 7.9953 - categorical_accuracy: 0.2903 - val_loss: 16.9424 - val_categorical_accuracy: 0.3333\n",
      "\n",
      "Epoch 00001: saving model to model_init_2020-07-1610_31_57.377954/model-00001-8.19134-0.29032-16.94237-0.33333.h5\n",
      "Epoch 2/50\n",
      "13/13 [==============================] - 16s 1s/step - loss: 5.6512 - categorical_accuracy: 0.3226 - val_loss: 1.0169 - val_categorical_accuracy: 0.3333\n",
      "\n",
      "Epoch 00002: saving model to model_init_2020-07-1610_31_57.377954/model-00002-5.70782-0.32258-1.01692-0.33333.h5\n",
      "Epoch 3/50\n",
      "13/13 [==============================] - 16s 1s/step - loss: 2.2046 - categorical_accuracy: 0.3548 - val_loss: 2.2961 - val_categorical_accuracy: 0.3333\n",
      "\n",
      "Epoch 00003: saving model to model_init_2020-07-1610_31_57.377954/model-00003-2.24147-0.35484-2.29613-0.33333.h5\n",
      "Epoch 4/50\n",
      "13/13 [==============================] - 16s 1s/step - loss: 2.0489 - categorical_accuracy: 0.3387 - val_loss: 1.0128 - val_categorical_accuracy: 0.3333\n",
      "\n",
      "Epoch 00004: saving model to model_init_2020-07-1610_31_57.377954/model-00004-2.00100-0.33871-1.01278-0.33333.h5\n",
      "Epoch 5/50\n",
      "13/13 [==============================] - 16s 1s/step - loss: 1.3284 - categorical_accuracy: 0.3387 - val_loss: 1.3976 - val_categorical_accuracy: 0.3333\n",
      "\n",
      "Epoch 00005: saving model to model_init_2020-07-1610_31_57.377954/model-00005-1.32197-0.33871-1.39758-0.33333.h5\n",
      "Epoch 6/50\n",
      "13/13 [==============================] - 16s 1s/step - loss: 1.0561 - categorical_accuracy: 0.4839 - val_loss: 1.0095 - val_categorical_accuracy: 0.3333\n",
      "\n",
      "Epoch 00006: saving model to model_init_2020-07-1610_31_57.377954/model-00006-1.09271-0.48387-1.00954-0.33333.h5\n",
      "Epoch 7/50\n",
      "13/13 [==============================] - 16s 1s/step - loss: 0.8410 - categorical_accuracy: 0.6452 - val_loss: 0.9731 - val_categorical_accuracy: 0.3333\n",
      "\n",
      "Epoch 00007: saving model to model_init_2020-07-1610_31_57.377954/model-00007-0.85422-0.64516-0.97312-0.33333.h5\n",
      "Epoch 8/50\n",
      "13/13 [==============================] - 16s 1s/step - loss: 0.5233 - categorical_accuracy: 0.7419 - val_loss: 0.9390 - val_categorical_accuracy: 0.4000\n",
      "\n",
      "Epoch 00008: saving model to model_init_2020-07-1610_31_57.377954/model-00008-0.52719-0.74194-0.93903-0.40000.h5\n",
      "Epoch 9/50\n",
      "13/13 [==============================] - 16s 1s/step - loss: 0.6099 - categorical_accuracy: 0.7258 - val_loss: 1.3675 - val_categorical_accuracy: 0.3333\n",
      "\n",
      "Epoch 00009: saving model to model_init_2020-07-1610_31_57.377954/model-00009-0.56662-0.72581-1.36754-0.33333.h5\n",
      "Epoch 10/50\n",
      "13/13 [==============================] - 16s 1s/step - loss: 0.7676 - categorical_accuracy: 0.7581 - val_loss: 0.8210 - val_categorical_accuracy: 0.6333\n",
      "\n",
      "Epoch 00010: saving model to model_init_2020-07-1610_31_57.377954/model-00010-0.75232-0.75806-0.82095-0.63333.h5\n",
      "Epoch 11/50\n",
      "13/13 [==============================] - 16s 1s/step - loss: 0.5931 - categorical_accuracy: 0.6613 - val_loss: 0.8709 - val_categorical_accuracy: 0.6667\n",
      "\n",
      "Epoch 00011: saving model to model_init_2020-07-1610_31_57.377954/model-00011-0.61476-0.66129-0.87089-0.66667.h5\n",
      "Epoch 12/50\n",
      "13/13 [==============================] - 16s 1s/step - loss: 0.3884 - categorical_accuracy: 0.8710 - val_loss: 0.7475 - val_categorical_accuracy: 0.7000\n",
      "\n",
      "Epoch 00012: saving model to model_init_2020-07-1610_31_57.377954/model-00012-0.40018-0.87097-0.74754-0.70000.h5\n",
      "Epoch 13/50\n",
      "13/13 [==============================] - 16s 1s/step - loss: 0.3328 - categorical_accuracy: 0.8548 - val_loss: 0.8842 - val_categorical_accuracy: 0.7667\n",
      "\n",
      "Epoch 00013: saving model to model_init_2020-07-1610_31_57.377954/model-00013-0.34529-0.85484-0.88420-0.76667.h5\n",
      "Epoch 14/50\n",
      "13/13 [==============================] - 16s 1s/step - loss: 0.3445 - categorical_accuracy: 0.8226 - val_loss: 0.5225 - val_categorical_accuracy: 0.9000\n",
      "\n",
      "Epoch 00014: saving model to model_init_2020-07-1610_31_57.377954/model-00014-0.32869-0.82258-0.52246-0.90000.h5\n",
      "Epoch 15/50\n",
      "13/13 [==============================] - 16s 1s/step - loss: 0.1999 - categorical_accuracy: 0.9194 - val_loss: 0.4907 - val_categorical_accuracy: 0.5000\n",
      "\n",
      "Epoch 00015: saving model to model_init_2020-07-1610_31_57.377954/model-00015-0.19257-0.91935-0.49075-0.50000.h5\n",
      "Epoch 16/50\n",
      "13/13 [==============================] - 16s 1s/step - loss: 0.3140 - categorical_accuracy: 0.8548 - val_loss: 0.5076 - val_categorical_accuracy: 0.7333\n",
      "\n",
      "Epoch 00016: saving model to model_init_2020-07-1610_31_57.377954/model-00016-0.31952-0.85484-0.50765-0.73333.h5\n",
      "Epoch 17/50\n",
      "13/13 [==============================] - 16s 1s/step - loss: 0.3126 - categorical_accuracy: 0.9194 - val_loss: 2.6340 - val_categorical_accuracy: 0.3333\n",
      "\n",
      "Epoch 00017: saving model to model_init_2020-07-1610_31_57.377954/model-00017-0.24535-0.91935-2.63403-0.33333.h5\n",
      "\n",
      "Epoch 00017: ReduceLROnPlateau reducing learning rate to 0.0005000000237487257.\n",
      "Epoch 18/50\n",
      "13/13 [==============================] - 16s 1s/step - loss: 0.5122 - categorical_accuracy: 0.7581 - val_loss: 0.3589 - val_categorical_accuracy: 0.8667\n",
      "\n",
      "Epoch 00018: saving model to model_init_2020-07-1610_31_57.377954/model-00018-0.53445-0.75806-0.35894-0.86667.h5\n",
      "Epoch 19/50\n",
      "13/13 [==============================] - 16s 1s/step - loss: 0.2194 - categorical_accuracy: 0.9032 - val_loss: 0.4278 - val_categorical_accuracy: 0.9667\n",
      "\n",
      "Epoch 00019: saving model to model_init_2020-07-1610_31_57.377954/model-00019-0.21912-0.90323-0.42785-0.96667.h5\n",
      "Epoch 20/50\n",
      "13/13 [==============================] - 16s 1s/step - loss: 0.1004 - categorical_accuracy: 0.9516 - val_loss: 0.3298 - val_categorical_accuracy: 0.8667\n",
      "\n",
      "Epoch 00020: saving model to model_init_2020-07-1610_31_57.377954/model-00020-0.10415-0.95161-0.32982-0.86667.h5\n",
      "Epoch 21/50\n",
      "13/13 [==============================] - 16s 1s/step - loss: 0.1722 - categorical_accuracy: 0.9516 - val_loss: 0.3877 - val_categorical_accuracy: 0.8000\n",
      "\n",
      "Epoch 00021: saving model to model_init_2020-07-1610_31_57.377954/model-00021-0.17981-0.95161-0.38765-0.80000.h5\n",
      "Epoch 22/50\n",
      "13/13 [==============================] - 16s 1s/step - loss: 0.1736 - categorical_accuracy: 0.9516 - val_loss: 0.3508 - val_categorical_accuracy: 0.9000\n",
      "\n",
      "Epoch 00022: saving model to model_init_2020-07-1610_31_57.377954/model-00022-0.18129-0.95161-0.35083-0.90000.h5\n",
      "\n",
      "Epoch 00022: ReduceLROnPlateau reducing learning rate to 0.0002500000118743628.\n",
      "Epoch 23/50\n",
      "13/13 [==============================] - 16s 1s/step - loss: 0.0552 - categorical_accuracy: 0.9839 - val_loss: 0.3455 - val_categorical_accuracy: 0.9000\n",
      "\n",
      "Epoch 00023: saving model to model_init_2020-07-1610_31_57.377954/model-00023-0.05762-0.98387-0.34549-0.90000.h5\n",
      "Epoch 24/50\n",
      "13/13 [==============================] - 16s 1s/step - loss: 0.0881 - categorical_accuracy: 0.9677 - val_loss: 0.3607 - val_categorical_accuracy: 0.9333\n",
      "\n",
      "Epoch 00024: saving model to model_init_2020-07-1610_31_57.377954/model-00024-0.08839-0.96774-0.36066-0.93333.h5\n",
      "\n",
      "Epoch 00024: ReduceLROnPlateau reducing learning rate to 0.0001250000059371814.\n",
      "Epoch 25/50\n",
      "13/13 [==============================] - 16s 1s/step - loss: 0.0504 - categorical_accuracy: 1.0000 - val_loss: 0.1923 - val_categorical_accuracy: 0.9667\n",
      "\n",
      "Epoch 00025: saving model to model_init_2020-07-1610_31_57.377954/model-00025-0.05238-1.00000-0.19227-0.96667.h5\n",
      "Epoch 26/50\n",
      "13/13 [==============================] - 16s 1s/step - loss: 0.0696 - categorical_accuracy: 0.9839 - val_loss: 0.1185 - val_categorical_accuracy: 0.9333\n",
      "\n",
      "Epoch 00026: saving model to model_init_2020-07-1610_31_57.377954/model-00026-0.07176-0.98387-0.11853-0.93333.h5\n",
      "Epoch 27/50\n",
      "13/13 [==============================] - 16s 1s/step - loss: 0.0831 - categorical_accuracy: 0.9677 - val_loss: 0.5352 - val_categorical_accuracy: 0.9667\n",
      "\n",
      "Epoch 00027: saving model to model_init_2020-07-1610_31_57.377954/model-00027-0.08665-0.96774-0.53523-0.96667.h5\n",
      "Epoch 28/50\n",
      "13/13 [==============================] - 16s 1s/step - loss: 0.0756 - categorical_accuracy: 0.9677 - val_loss: 0.1423 - val_categorical_accuracy: 0.9667\n",
      "\n",
      "Epoch 00028: saving model to model_init_2020-07-1610_31_57.377954/model-00028-0.07841-0.96774-0.14234-0.96667.h5\n",
      "\n",
      "Epoch 00028: ReduceLROnPlateau reducing learning rate to 6.25000029685907e-05.\n",
      "Epoch 29/50\n",
      "13/13 [==============================] - 16s 1s/step - loss: 0.0761 - categorical_accuracy: 0.9839 - val_loss: 0.2780 - val_categorical_accuracy: 0.9667\n",
      "\n",
      "Epoch 00029: saving model to model_init_2020-07-1610_31_57.377954/model-00029-0.07876-0.98387-0.27805-0.96667.h5\n",
      "Epoch 30/50\n",
      "13/13 [==============================] - 16s 1s/step - loss: 0.0469 - categorical_accuracy: 0.9839 - val_loss: 0.5115 - val_categorical_accuracy: 0.9667\n",
      "\n",
      "Epoch 00030: saving model to model_init_2020-07-1610_31_57.377954/model-00030-0.04889-0.98387-0.51150-0.96667.h5\n",
      "\n",
      "Epoch 00030: ReduceLROnPlateau reducing learning rate to 3.125000148429535e-05.\n",
      "Epoch 31/50\n",
      "13/13 [==============================] - 16s 1s/step - loss: 0.0662 - categorical_accuracy: 0.9677 - val_loss: 0.2851 - val_categorical_accuracy: 0.9667\n",
      "\n",
      "Epoch 00031: saving model to model_init_2020-07-1610_31_57.377954/model-00031-0.06911-0.96774-0.28509-0.96667.h5\n",
      "Epoch 32/50\n",
      "13/13 [==============================] - 16s 1s/step - loss: 0.0765 - categorical_accuracy: 0.9516 - val_loss: 0.2214 - val_categorical_accuracy: 0.9667\n",
      "\n",
      "Epoch 00032: saving model to model_init_2020-07-1610_31_57.377954/model-00032-0.07969-0.95161-0.22145-0.96667.h5\n",
      "\n",
      "Epoch 00032: ReduceLROnPlateau reducing learning rate to 1.5625000742147677e-05.\n",
      "Epoch 33/50\n",
      "13/13 [==============================] - 16s 1s/step - loss: 0.0439 - categorical_accuracy: 1.0000 - val_loss: 0.1595 - val_categorical_accuracy: 0.9000\n",
      "\n",
      "Epoch 00033: saving model to model_init_2020-07-1610_31_57.377954/model-00033-0.04571-1.00000-0.15950-0.90000.h5\n",
      "Epoch 34/50\n",
      "13/13 [==============================] - 16s 1s/step - loss: 0.0501 - categorical_accuracy: 0.9839 - val_loss: 0.0355 - val_categorical_accuracy: 0.9000\n",
      "\n",
      "Epoch 00034: saving model to model_init_2020-07-1610_31_57.377954/model-00034-0.05218-0.98387-0.03555-0.90000.h5\n",
      "Epoch 35/50\n",
      "13/13 [==============================] - 16s 1s/step - loss: 0.0361 - categorical_accuracy: 1.0000 - val_loss: 0.2745 - val_categorical_accuracy: 0.9000\n",
      "\n",
      "Epoch 00035: saving model to model_init_2020-07-1610_31_57.377954/model-00035-0.03753-1.00000-0.27451-0.90000.h5\n",
      "Epoch 36/50\n",
      "13/13 [==============================] - 16s 1s/step - loss: 0.0507 - categorical_accuracy: 1.0000 - val_loss: 0.1750 - val_categorical_accuracy: 0.9000\n",
      "\n",
      "Epoch 00036: saving model to model_init_2020-07-1610_31_57.377954/model-00036-0.05231-1.00000-0.17500-0.90000.h5\n",
      "\n",
      "Epoch 00036: ReduceLROnPlateau reducing learning rate to 1e-05.\n",
      "Epoch 37/50\n",
      "13/13 [==============================] - 16s 1s/step - loss: 0.0442 - categorical_accuracy: 0.9839 - val_loss: 0.2288 - val_categorical_accuracy: 0.9000\n",
      "\n",
      "Epoch 00037: saving model to model_init_2020-07-1610_31_57.377954/model-00037-0.04378-0.98387-0.22883-0.90000.h5\n",
      "Epoch 38/50\n",
      "13/13 [==============================] - 16s 1s/step - loss: 0.0621 - categorical_accuracy: 0.9839 - val_loss: 0.3040 - val_categorical_accuracy: 0.9000\n",
      "\n",
      "Epoch 00038: saving model to model_init_2020-07-1610_31_57.377954/model-00038-0.06275-0.98387-0.30401-0.90000.h5\n",
      "Epoch 39/50\n",
      "13/13 [==============================] - 16s 1s/step - loss: 0.0429 - categorical_accuracy: 0.9839 - val_loss: 0.0294 - val_categorical_accuracy: 0.9000\n",
      "\n",
      "Epoch 00039: saving model to model_init_2020-07-1610_31_57.377954/model-00039-0.04453-0.98387-0.02935-0.90000.h5\n",
      "Epoch 40/50\n",
      "13/13 [==============================] - 16s 1s/step - loss: 0.0509 - categorical_accuracy: 0.9839 - val_loss: 0.4716 - val_categorical_accuracy: 0.9000\n",
      "\n",
      "Epoch 00040: saving model to model_init_2020-07-1610_31_57.377954/model-00040-0.05262-0.98387-0.47164-0.90000.h5\n",
      "Epoch 41/50\n",
      "13/13 [==============================] - 15s 1s/step - loss: 0.0405 - categorical_accuracy: 0.9839 - val_loss: 0.0653 - val_categorical_accuracy: 0.9000\n",
      "\n",
      "Epoch 00041: saving model to model_init_2020-07-1610_31_57.377954/model-00041-0.04230-0.98387-0.06527-0.90000.h5\n",
      "Epoch 42/50\n",
      "13/13 [==============================] - 15s 1s/step - loss: 0.0411 - categorical_accuracy: 1.0000 - val_loss: 0.4179 - val_categorical_accuracy: 0.9000\n",
      "\n",
      "Epoch 00042: saving model to model_init_2020-07-1610_31_57.377954/model-00042-0.04086-1.00000-0.41788-0.90000.h5\n",
      "Epoch 43/50\n",
      "13/13 [==============================] - 16s 1s/step - loss: 0.0768 - categorical_accuracy: 0.9677 - val_loss: 0.0979 - val_categorical_accuracy: 0.9000\n",
      "\n",
      "Epoch 00043: saving model to model_init_2020-07-1610_31_57.377954/model-00043-0.06356-0.96774-0.09793-0.90000.h5\n",
      "Epoch 44/50\n",
      "13/13 [==============================] - 16s 1s/step - loss: 0.0706 - categorical_accuracy: 0.9677 - val_loss: 0.0676 - val_categorical_accuracy: 0.9000\n",
      "\n",
      "Epoch 00044: saving model to model_init_2020-07-1610_31_57.377954/model-00044-0.06912-0.96774-0.06763-0.90000.h5\n",
      "Epoch 45/50\n",
      "13/13 [==============================] - 16s 1s/step - loss: 0.0510 - categorical_accuracy: 1.0000 - val_loss: 0.0843 - val_categorical_accuracy: 0.9000\n",
      "\n",
      "Epoch 00045: saving model to model_init_2020-07-1610_31_57.377954/model-00045-0.05318-1.00000-0.08426-0.90000.h5\n",
      "Epoch 46/50\n",
      "13/13 [==============================] - 16s 1s/step - loss: 0.0978 - categorical_accuracy: 0.9677 - val_loss: 0.4433 - val_categorical_accuracy: 0.9000\n",
      "\n",
      "Epoch 00046: saving model to model_init_2020-07-1610_31_57.377954/model-00046-0.08085-0.96774-0.44327-0.90000.h5\n",
      "Epoch 47/50\n",
      "13/13 [==============================] - 16s 1s/step - loss: 0.0446 - categorical_accuracy: 1.0000 - val_loss: 0.0862 - val_categorical_accuracy: 0.9000\n",
      "\n",
      "Epoch 00047: saving model to model_init_2020-07-1610_31_57.377954/model-00047-0.03444-1.00000-0.08616-0.90000.h5\n",
      "Epoch 48/50\n",
      "13/13 [==============================] - 17s 1s/step - loss: 0.0911 - categorical_accuracy: 0.9677 - val_loss: 0.2090 - val_categorical_accuracy: 0.9000\n",
      "\n",
      "Epoch 00048: saving model to model_init_2020-07-1610_31_57.377954/model-00048-0.08635-0.96774-0.20901-0.90000.h5\n",
      "Epoch 49/50\n",
      "13/13 [==============================] - 16s 1s/step - loss: 0.0820 - categorical_accuracy: 0.9677 - val_loss: 0.0408 - val_categorical_accuracy: 0.9000\n",
      "\n",
      "Epoch 00049: saving model to model_init_2020-07-1610_31_57.377954/model-00049-0.07492-0.96774-0.04083-0.90000.h5\n",
      "Epoch 50/50\n",
      "13/13 [==============================] - 16s 1s/step - loss: 0.0495 - categorical_accuracy: 0.9839 - val_loss: 0.0095 - val_categorical_accuracy: 0.9000\n",
      "\n",
      "Epoch 00050: saving model to model_init_2020-07-1610_31_57.377954/model-00050-0.05163-0.98387-0.00950-0.90000.h5\n"
     ]
    },
    {
     "data": {
      "text/plain": [
       "<keras.callbacks.callbacks.History at 0x7f6972b87ef0>"
      ]
     },
     "execution_count": 158,
     "metadata": {
      "tags": []
     },
     "output_type": "execute_result"
    }
   ],
   "source": [
    "model.fit_generator(train_generator, steps_per_epoch=steps_per_epoch, epochs=num_epochs, verbose=1, \n",
    "                    callbacks=callbacks_list, validation_data=val_generator, \n",
    "                    validation_steps=validation_steps, class_weight=None, workers=1, initial_epoch=0)"
   ]
  },
  {
   "cell_type": "markdown",
   "metadata": {
    "colab_type": "text",
    "id": "tlcUDhiWlj-o"
   },
   "source": [
    "Let us now fit the model. This will start training the model and with the help of the checkpoints, you'll be able to save the model at the end of each epoch."
   ]
  },
  {
   "cell_type": "code",
   "execution_count": 129,
   "metadata": {
    "colab": {},
    "colab_type": "code",
    "id": "G6twt5cAlj-p"
   },
   "outputs": [],
   "source": [
    "!rm -r /content/model_init_2020-07-1609_18_09.085398"
   ]
  },
  {
   "cell_type": "code",
   "execution_count": 176,
   "metadata": {
    "colab": {
     "base_uri": "https://localhost:8080/",
     "height": 578
    },
    "colab_type": "code",
    "id": "XY9mdy66EIZC",
    "outputId": "2e5104f9-291f-4c61-854f-eb843cc1face"
   },
   "outputs": [
    {
     "name": "stdout",
     "output_type": "stream",
     "text": [
      "# testing sequences = 7\n",
      "# testing sequences = 1\n",
      "Model loaded.\n",
      "Source path =  /content/sample_data/test_set/test_set ; batch size = 1\n",
      "shape of x: (1, 18, 128, 128, 3) and shape of true_labels: (1, 3)\n"
     ]
    },
    {
     "name": "stderr",
     "output_type": "stream",
     "text": [
      "/usr/local/lib/python3.6/dist-packages/ipykernel_launcher.py:16: DeprecationWarning: `imread` is deprecated!\n",
      "`imread` is deprecated in SciPy 1.0.0, and will be removed in 1.2.0.\n",
      "Use ``imageio.imread`` instead.\n",
      "  app.launch_new_instance()\n",
      "/usr/local/lib/python3.6/dist-packages/ipykernel_launcher.py:17: DeprecationWarning: `imresize` is deprecated!\n",
      "`imresize` is deprecated in SciPy 1.0.0, and will be removed in 1.2.0.\n",
      "Use ``skimage.transform.resize`` instead.\n"
     ]
    },
    {
     "name": "stdout",
     "output_type": "stream",
     "text": [
      "True_labels:  [[1. 0. 0.]]\n",
      "Pred_labels:  [0]\n",
      "shape of x: (1, 18, 128, 128, 3) and shape of true_labels: (1, 3)\n",
      "True_labels:  [[0. 1. 0.]]\n",
      "Pred_labels:  [0]\n",
      "shape of x: (1, 18, 128, 128, 3) and shape of true_labels: (1, 3)\n",
      "True_labels:  [[1. 0. 0.]]\n",
      "Pred_labels:  [0]\n",
      "shape of x: (1, 18, 128, 128, 3) and shape of true_labels: (1, 3)\n",
      "True_labels:  [[1. 0. 0.]]\n",
      "Pred_labels:  [0]\n",
      "shape of x: (1, 18, 128, 128, 3) and shape of true_labels: (1, 3)\n",
      "True_labels:  [[0. 0. 1.]]\n",
      "Pred_labels:  [2]\n",
      "shape of x: (1, 18, 128, 128, 3) and shape of true_labels: (1, 3)\n",
      "True_labels:  [[0. 1. 0.]]\n",
      "Pred_labels:  [1]\n",
      "shape of x: (1, 18, 128, 128, 3) and shape of true_labels: (1, 3)\n",
      "True_labels:  [[0. 1. 0.]]\n",
      "Pred_labels:  [1]\n",
      "Accuracy is = 0.8571428571428571\n"
     ]
    }
   ],
   "source": [
    "#Test Code\n",
    "\n",
    "from keras.models import load_model, Model\n",
    "#######\n",
    "    \n",
    "model_name = '/content/model_init_2020-07-1610_31_57.377954/model-00025-0.05238-1.00000-0.19227-0.96667.h5'\n",
    "    \n",
    "#######\n",
    "    \n",
    "test_doc = open('/content/sample_data/test_set/test.csv').readlines()\n",
    "test_path = '/content/sample_data/test_set/test_set'\n",
    "num_test_sequences = len(test_doc)\n",
    "batch_size=1\n",
    "print ('# testing sequences =', num_test_sequences)\n",
    "print ('# testing sequences =', batch_size)\n",
    "test_generator = generator(test_path, test_doc, batch_size)\n",
    "model = load_model(model_name)\n",
    "print(\"Model loaded.\")\n",
    "model_func = Model(inputs=[model.input], outputs=[model.output])\n",
    "    \n",
    "acc = 0\n",
    "num_batches = int(num_test_sequences/batch_size)\n",
    "    \n",
    "for i in range(num_batches):\n",
    "    x,true_labels = test_generator.__next__()\n",
    "    print (\"shape of x:\", x.shape, \"and shape of true_labels:\", true_labels.shape)\n",
    "    pred_idx = np.argmax(model_func.predict_on_batch(x), axis=1)\n",
    "    print(\"True_labels: \",true_labels)\n",
    "    print(\"Pred_labels: \",pred_idx)\n",
    "    for j,k in enumerate(pred_idx):\n",
    "        if true_labels[j,k] == 1:\n",
    "            acc += 1\n",
    "                \n",
    "if (num_test_sequences%batch_size) != 0:\n",
    "    x,true_labels = test_generator.__next__()\n",
    "    print (\"shape of x:\", x.shape, \"and shape of true_labels:\", true_labels.shape)\n",
    "    pred_idx = np.argmax(model_func.predict_on_batch(x), axis=1)\n",
    "    for j,k in enumerate(pred_idx):\n",
    "        if true_labels[j,k] == 1:\n",
    "            acc += 1\n",
    "\n",
    "print('Accuracy is =', acc/num_test_sequences) "
   ]
  },
  {
   "cell_type": "code",
   "execution_count": 172,
   "metadata": {
    "colab": {},
    "colab_type": "code",
    "id": "VLBlOwsVcsmQ"
   },
   "outputs": [],
   "source": [
    "!rm -r /content/sample_data/test_set/test_set/Offspin1"
   ]
  },
  {
   "cell_type": "code",
   "execution_count": null,
   "metadata": {
    "colab": {},
    "colab_type": "code",
    "id": "jlkAna5ytSuM"
   },
   "outputs": [],
   "source": []
  }
 ],
 "metadata": {
  "accelerator": "GPU",
  "colab": {
   "collapsed_sections": [],
   "name": "Neural+Networks+Project+Conv3D.ipynb",
   "provenance": []
  },
  "kernelspec": {
   "display_name": "Python 3",
   "language": "python",
   "name": "python3"
  },
  "language_info": {
   "codemirror_mode": {
    "name": "ipython",
    "version": 3
   },
   "file_extension": ".py",
   "mimetype": "text/x-python",
   "name": "python",
   "nbconvert_exporter": "python",
   "pygments_lexer": "ipython3",
   "version": "3.6.6"
  }
 },
 "nbformat": 4,
 "nbformat_minor": 1
}
